{
  "nbformat": 4,
  "nbformat_minor": 0,
  "metadata": {
    "colab": {
      "provenance": []
    },
    "kernelspec": {
      "name": "python3",
      "display_name": "Python 3"
    },
    "language_info": {
      "name": "python"
    }
  },
  "cells": [
    {
      "cell_type": "code",
      "source": [
        "# Montar Google Drive no Colab\n",
        "from google.colab import drive\n",
        "drive.mount('/content/drive')\n",
        "\n",
        "# Depois de montar, navegue até a pasta desejada\n",
        "import os\n",
        "os.chdir('/content/drive/MyDrive/genomes_test/')"
      ],
      "metadata": {
        "colab": {
          "base_uri": "https://localhost:8080/"
        },
        "id": "FnPjmw1qD4KP",
        "outputId": "0c527fc0-8f88-4133-dc27-db69b63da610"
      },
      "execution_count": 1,
      "outputs": [
        {
          "output_type": "stream",
          "name": "stdout",
          "text": [
            "Drive already mounted at /content/drive; to attempt to forcibly remount, call drive.mount(\"/content/drive\", force_remount=True).\n"
          ]
        }
      ]
    },
    {
      "cell_type": "code",
      "source": [
        "!pip install biopython"
      ],
      "metadata": {
        "colab": {
          "base_uri": "https://localhost:8080/"
        },
        "id": "WM9RGoxDKrQ0",
        "outputId": "fcdac93c-53ef-4b8f-cb89-3e3a8ac3d56a"
      },
      "execution_count": 3,
      "outputs": [
        {
          "output_type": "stream",
          "name": "stdout",
          "text": [
            "Collecting biopython\n",
            "  Downloading biopython-1.84-cp310-cp310-manylinux_2_17_x86_64.manylinux2014_x86_64.whl.metadata (12 kB)\n",
            "Requirement already satisfied: numpy in /usr/local/lib/python3.10/dist-packages (from biopython) (1.26.4)\n",
            "Downloading biopython-1.84-cp310-cp310-manylinux_2_17_x86_64.manylinux2014_x86_64.whl (3.2 MB)\n",
            "\u001b[?25l   \u001b[90m━━━━━━━━━━━━━━━━━━━━━━━━━━━━━━━━━━━━━━━━\u001b[0m \u001b[32m0.0/3.2 MB\u001b[0m \u001b[31m?\u001b[0m eta \u001b[36m-:--:--\u001b[0m\r\u001b[2K   \u001b[91m━━━━━━━━━━━━━━━━━━━━━━━━━━━━━━━━━━━━━━━\u001b[0m\u001b[91m╸\u001b[0m \u001b[32m3.2/3.2 MB\u001b[0m \u001b[31m97.0 MB/s\u001b[0m eta \u001b[36m0:00:01\u001b[0m\r\u001b[2K   \u001b[90m━━━━━━━━━━━━━━━━━━━━━━━━━━━━━━━━━━━━━━━━\u001b[0m \u001b[32m3.2/3.2 MB\u001b[0m \u001b[31m53.5 MB/s\u001b[0m eta \u001b[36m0:00:00\u001b[0m\n",
            "\u001b[?25hInstalling collected packages: biopython\n",
            "Successfully installed biopython-1.84\n"
          ]
        }
      ]
    },
    {
      "cell_type": "code",
      "execution_count": 4,
      "metadata": {
        "colab": {
          "base_uri": "https://localhost:8080/"
        },
        "id": "rnwv9dx9su57",
        "outputId": "f544db62-bd01-448f-944f-9a0e01b3e875"
      },
      "outputs": [
        {
          "output_type": "stream",
          "name": "stdout",
          "text": [
            "Total proteins found with 'defensin' or 'lectin' in description: 30\n",
            "Total sequences extracted: 30\n",
            "Sequences saved to /content/drive/MyDrive/genomes_test/selected_proteins_with_description.fasta\n"
          ]
        }
      ],
      "source": [
        "import sys\n",
        "import subprocess\n",
        "import pkg_resources\n",
        "import os\n",
        "from Bio import SeqIO\n",
        "import csv\n",
        "from tqdm import tqdm\n",
        "\n",
        "# Função para verificar e instalar pacotes automaticamente\n",
        "def install_and_import(package):\n",
        "    try:\n",
        "        pkg_resources.get_distribution(package)\n",
        "    except pkg_resources.DistributionNotFound:\n",
        "        print(f\"Installing {package}...\")\n",
        "        subprocess.check_call([sys.executable, \"-m\", \"pip\", \"install\", package])\n",
        "\n",
        "# Pacotes necessários\n",
        "required_packages = ['biopython', 'tqdm']\n",
        "\n",
        "# Instalando os pacotes necessários\n",
        "for package in required_packages:\n",
        "    install_and_import(package)\n",
        "\n",
        "# Caminhos no Google Drive (modifique conforme necessário)\n",
        "annotation_file = \"/content/drive/MyDrive/genomes_test/CreinhardtiiCC_4532_707_v6.1.annotation_info.txt\"  # Arquivo de anotação\n",
        "fasta_file = \"/content/drive/MyDrive/genomes_test/CreinhardtiiCC_4532_707_v6.1.protein.fa\"  # Arquivo FASTA do proteoma\n",
        "output_dir = \"/content/drive/MyDrive/genomes_test/\"  # Diretório de saída\n",
        "\n",
        "# Função para garantir que o diretório de saída existe\n",
        "def ensure_output_dir(output_dir):\n",
        "    if not os.path.exists(output_dir):\n",
        "        os.makedirs(output_dir)\n",
        "\n",
        "# Filtrar as proteínas defensin ou lectin no arquivo de anotação (busca flexível por palavra)\n",
        "def filter_annotations(annotation_file):\n",
        "    selected_proteins = {}\n",
        "    with open(annotation_file, \"r\") as f:\n",
        "        reader = csv.DictReader(f, delimiter='\\t')\n",
        "        for row in reader:\n",
        "            # Verifica se \"defensin\" ou \"lectin\" está em qualquer parte da descrição\n",
        "            if 'eukaryotic translation' in row['Best-hit-rice-defline'].lower() or 'eukaryotic translation' in row['Best-hit-rice-defline'].lower():\n",
        "                # Armazena o peptideName como chave e a descrição \"Best-hit-rice-defline\" como valor\n",
        "                selected_proteins[row['peptideName']] = row['Best-hit-rice-defline']\n",
        "    return selected_proteins\n",
        "\n",
        "# Função para buscar sequências no proteoma e adicionar Best-hit-rice-defline ao cabeçalho\n",
        "def extract_sequences(fasta_file, selected_proteins):\n",
        "    sequences_found = []\n",
        "    for record in SeqIO.parse(fasta_file, \"fasta\"):\n",
        "        if record.id in selected_proteins:\n",
        "            # Adiciona a descrição \"Best-hit-rice-defline\" ao cabeçalho da sequência\n",
        "            record.description += f\" | {selected_proteins[record.id]}\"\n",
        "            sequences_found.append(record)\n",
        "    return sequences_found\n",
        "\n",
        "# Função para salvar as sequências mineradas em um arquivo FASTA\n",
        "def save_sequences(sequences, output_file):\n",
        "    with open(output_file, \"w\") as output_handle:\n",
        "        SeqIO.write(sequences, output_handle, \"fasta\")\n",
        "\n",
        "# Função principal\n",
        "def process_annotations_and_proteome():\n",
        "    # Garantir que o diretório de saída existe\n",
        "    ensure_output_dir(output_dir)\n",
        "\n",
        "    # Filtrar as proteínas de interesse\n",
        "    selected_proteins = filter_annotations(annotation_file)\n",
        "    print(f\"Total proteins found with 'defensin' or 'lectin' in description: {len(selected_proteins)}\")\n",
        "\n",
        "    # Buscar as sequências correspondentes no proteoma e adicionar o Best-hit-rice-defline ao cabeçalho\n",
        "    sequences_found = extract_sequences(fasta_file, selected_proteins)\n",
        "    print(f\"Total sequences extracted: {len(sequences_found)}\")\n",
        "\n",
        "    # Salvar as sequências em um arquivo FASTA\n",
        "    output_fasta = os.path.join(output_dir, \"selected_proteins_with_description.fasta\")\n",
        "    save_sequences(sequences_found, output_fasta)\n",
        "    print(f\"Sequences saved to {output_fasta}\")\n",
        "\n",
        "# Executando o processamento\n",
        "process_annotations_and_proteome()\n"
      ]
    }
  ]
}